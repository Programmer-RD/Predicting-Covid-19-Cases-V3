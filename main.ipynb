{
 "cells": [
  {
   "cell_type": "code",
   "execution_count": 27,
   "metadata": {},
   "outputs": [],
   "source": [
    "import pandas as pd"
   ]
  },
  {
   "cell_type": "code",
   "execution_count": 5,
   "metadata": {},
   "outputs": [
    {
     "name": "stdout",
     "output_type": "stream",
     "text": [
      "Archive:  ./data/covid-19_zip (1).zip\n",
      "  inflating: archive/countries-aggregated.csv  \n",
      "  inflating: archive/key-countries-pivoted.csv  \n",
      "  inflating: archive/reference.csv   \n",
      "  inflating: archive/time-series-19-covid-combined.csv  \n",
      "  inflating: archive/us_confirmed.csv  \n",
      "  inflating: archive/us_deaths.csv   \n",
      "  inflating: archive/us_simplified.csv  \n",
      "  inflating: archive/worldwide-aggregate.csv  \n",
      "  inflating: data/validation_report.json  \n",
      "  inflating: data/countries-aggregated_csv.csv  \n",
      "  inflating: data/key-countries-pivoted_csv.csv  \n",
      "  inflating: data/reference_csv.csv  \n",
      "  inflating: data/time-series-19-covid-combined_csv.csv  \n",
      "  inflating: data/us_confirmed_csv.csv  \n",
      "  inflating: data/us_deaths_csv.csv  \n",
      "  inflating: data/us_simplified_csv.csv  \n",
      "  inflating: data/worldwide-aggregate_csv.csv  \n",
      "  inflating: data/countries-aggregated_json.json  \n",
      "  inflating: data/key-countries-pivoted_json.json  \n",
      "  inflating: data/reference_json.json  \n",
      "  inflating: data/time-series-19-covid-combined_json.json  \n",
      "  inflating: data/us_confirmed_json.json  \n",
      "  inflating: data/us_deaths_json.json  \n",
      "  inflating: data/us_simplified_json.json  \n",
      "  inflating: data/worldwide-aggregate_json.json  \n",
      "  inflating: README.md               \n",
      "  inflating: datapackage.json        \n"
     ]
    }
   ],
   "source": [
    "!unzip ./data/covid-19_zip\\ \\(1\\).zip"
   ]
  },
  {
   "cell_type": "code",
   "execution_count": 28,
   "metadata": {},
   "outputs": [
    {
     "name": "stdout",
     "output_type": "stream",
     "text": [
      "data  Untitled.ipynb\r\n"
     ]
    }
   ],
   "source": [
    "!ls"
   ]
  },
  {
   "cell_type": "code",
   "execution_count": 29,
   "metadata": {},
   "outputs": [
    {
     "name": "stdout",
     "output_type": "stream",
     "text": [
      "countries-aggregated.csv  time-series-19-covid-combined.csv\r\n"
     ]
    }
   ],
   "source": [
    "!ls ./data/"
   ]
  },
  {
   "cell_type": "code",
   "execution_count": 30,
   "metadata": {},
   "outputs": [],
   "source": [
    "test_1 = pd.read_csv('./data/countries-aggregated.csv')"
   ]
  },
  {
   "cell_type": "code",
   "execution_count": 31,
   "metadata": {},
   "outputs": [],
   "source": [
    "test_2 = pd.read_csv('./data/time-series-19-covid-combined.csv')"
   ]
  },
  {
   "cell_type": "code",
   "execution_count": 32,
   "metadata": {},
   "outputs": [],
   "source": [
    "data = test_2"
   ]
  },
  {
   "cell_type": "code",
   "execution_count": 33,
   "metadata": {},
   "outputs": [
    {
     "data": {
      "text/html": [
       "<div>\n",
       "<style scoped>\n",
       "    .dataframe tbody tr th:only-of-type {\n",
       "        vertical-align: middle;\n",
       "    }\n",
       "\n",
       "    .dataframe tbody tr th {\n",
       "        vertical-align: top;\n",
       "    }\n",
       "\n",
       "    .dataframe thead th {\n",
       "        text-align: right;\n",
       "    }\n",
       "</style>\n",
       "<table border=\"1\" class=\"dataframe\">\n",
       "  <thead>\n",
       "    <tr style=\"text-align: right;\">\n",
       "      <th></th>\n",
       "      <th>Date</th>\n",
       "      <th>Country/Region</th>\n",
       "      <th>Province/State</th>\n",
       "      <th>Confirmed</th>\n",
       "      <th>Recovered</th>\n",
       "      <th>Deaths</th>\n",
       "    </tr>\n",
       "  </thead>\n",
       "  <tbody>\n",
       "    <tr>\n",
       "      <th>0</th>\n",
       "      <td>2020-01-22</td>\n",
       "      <td>Afghanistan</td>\n",
       "      <td>NaN</td>\n",
       "      <td>0</td>\n",
       "      <td>0.0</td>\n",
       "      <td>0</td>\n",
       "    </tr>\n",
       "    <tr>\n",
       "      <th>1</th>\n",
       "      <td>2020-01-23</td>\n",
       "      <td>Afghanistan</td>\n",
       "      <td>NaN</td>\n",
       "      <td>0</td>\n",
       "      <td>0.0</td>\n",
       "      <td>0</td>\n",
       "    </tr>\n",
       "    <tr>\n",
       "      <th>2</th>\n",
       "      <td>2020-01-24</td>\n",
       "      <td>Afghanistan</td>\n",
       "      <td>NaN</td>\n",
       "      <td>0</td>\n",
       "      <td>0.0</td>\n",
       "      <td>0</td>\n",
       "    </tr>\n",
       "    <tr>\n",
       "      <th>3</th>\n",
       "      <td>2020-01-25</td>\n",
       "      <td>Afghanistan</td>\n",
       "      <td>NaN</td>\n",
       "      <td>0</td>\n",
       "      <td>0.0</td>\n",
       "      <td>0</td>\n",
       "    </tr>\n",
       "    <tr>\n",
       "      <th>4</th>\n",
       "      <td>2020-01-26</td>\n",
       "      <td>Afghanistan</td>\n",
       "      <td>NaN</td>\n",
       "      <td>0</td>\n",
       "      <td>0.0</td>\n",
       "      <td>0</td>\n",
       "    </tr>\n",
       "  </tbody>\n",
       "</table>\n",
       "</div>"
      ],
      "text/plain": [
       "         Date Country/Region Province/State  Confirmed  Recovered  Deaths\n",
       "0  2020-01-22    Afghanistan            NaN          0        0.0       0\n",
       "1  2020-01-23    Afghanistan            NaN          0        0.0       0\n",
       "2  2020-01-24    Afghanistan            NaN          0        0.0       0\n",
       "3  2020-01-25    Afghanistan            NaN          0        0.0       0\n",
       "4  2020-01-26    Afghanistan            NaN          0        0.0       0"
      ]
     },
     "execution_count": 33,
     "metadata": {},
     "output_type": "execute_result"
    }
   ],
   "source": [
    "data.head()"
   ]
  },
  {
   "cell_type": "code",
   "execution_count": 34,
   "metadata": {},
   "outputs": [],
   "source": [
    "data.drop('Province/State',axis=1,inplace=True)"
   ]
  },
  {
   "cell_type": "code",
   "execution_count": 35,
   "metadata": {},
   "outputs": [
    {
     "data": {
      "text/plain": [
       "Date                 0\n",
       "Country/Region       0\n",
       "Confirmed            0\n",
       "Recovered         6096\n",
       "Deaths               0\n",
       "dtype: int64"
      ]
     },
     "execution_count": 35,
     "metadata": {},
     "output_type": "execute_result"
    }
   ],
   "source": [
    "data.isna().sum()"
   ]
  },
  {
   "cell_type": "code",
   "execution_count": 43,
   "metadata": {},
   "outputs": [],
   "source": [
    "import numpy as np\n",
    "data['Recovered'] = data['Recovered'].fillna(np.mean(data['Recovered']))"
   ]
  },
  {
   "cell_type": "code",
   "execution_count": 44,
   "metadata": {},
   "outputs": [
    {
     "data": {
      "text/plain": [
       "Date              0\n",
       "Country/Region    0\n",
       "Confirmed         0\n",
       "Recovered         0\n",
       "Deaths            0\n",
       "dtype: int64"
      ]
     },
     "execution_count": 44,
     "metadata": {},
     "output_type": "execute_result"
    }
   ],
   "source": [
    "data.isna().sum()"
   ]
  },
  {
   "cell_type": "code",
   "execution_count": 47,
   "metadata": {},
   "outputs": [
    {
     "data": {
      "text/plain": [
       "Date               object\n",
       "Country/Region     object\n",
       "Confirmed           int64\n",
       "Recovered         float64\n",
       "Deaths              int64\n",
       "dtype: object"
      ]
     },
     "execution_count": 47,
     "metadata": {},
     "output_type": "execute_result"
    }
   ],
   "source": [
    "data.dtypes"
   ]
  },
  {
   "cell_type": "code",
   "execution_count": 48,
   "metadata": {},
   "outputs": [],
   "source": [
    "recoverd = []\n",
    "for recover in data['Recovered']:\n",
    "    recoverd.append(int(recover))"
   ]
  },
  {
   "cell_type": "code",
   "execution_count": 49,
   "metadata": {},
   "outputs": [],
   "source": [
    "data['Recovered'] = recoverd"
   ]
  },
  {
   "cell_type": "code",
   "execution_count": 50,
   "metadata": {},
   "outputs": [
    {
     "data": {
      "text/plain": [
       "Date              object\n",
       "Country/Region    object\n",
       "Confirmed          int64\n",
       "Recovered          int64\n",
       "Deaths             int64\n",
       "dtype: object"
      ]
     },
     "execution_count": 50,
     "metadata": {},
     "output_type": "execute_result"
    }
   ],
   "source": [
    "data.dtypes"
   ]
  },
  {
   "cell_type": "code",
   "execution_count": 51,
   "metadata": {},
   "outputs": [],
   "source": [
    "dates = []\n",
    "for date in data['Date']:\n",
    "    dates.append(int(date.replace('-','')))"
   ]
  },
  {
   "cell_type": "code",
   "execution_count": 53,
   "metadata": {},
   "outputs": [],
   "source": [
    "data['Date'] = dates"
   ]
  },
  {
   "cell_type": "code",
   "execution_count": 54,
   "metadata": {},
   "outputs": [
    {
     "data": {
      "text/html": [
       "<div>\n",
       "<style scoped>\n",
       "    .dataframe tbody tr th:only-of-type {\n",
       "        vertical-align: middle;\n",
       "    }\n",
       "\n",
       "    .dataframe tbody tr th {\n",
       "        vertical-align: top;\n",
       "    }\n",
       "\n",
       "    .dataframe thead th {\n",
       "        text-align: right;\n",
       "    }\n",
       "</style>\n",
       "<table border=\"1\" class=\"dataframe\">\n",
       "  <thead>\n",
       "    <tr style=\"text-align: right;\">\n",
       "      <th></th>\n",
       "      <th>Date</th>\n",
       "      <th>Country/Region</th>\n",
       "      <th>Confirmed</th>\n",
       "      <th>Recovered</th>\n",
       "      <th>Deaths</th>\n",
       "    </tr>\n",
       "  </thead>\n",
       "  <tbody>\n",
       "    <tr>\n",
       "      <th>0</th>\n",
       "      <td>20200122</td>\n",
       "      <td>Afghanistan</td>\n",
       "      <td>0</td>\n",
       "      <td>0</td>\n",
       "      <td>0</td>\n",
       "    </tr>\n",
       "    <tr>\n",
       "      <th>1</th>\n",
       "      <td>20200123</td>\n",
       "      <td>Afghanistan</td>\n",
       "      <td>0</td>\n",
       "      <td>0</td>\n",
       "      <td>0</td>\n",
       "    </tr>\n",
       "    <tr>\n",
       "      <th>2</th>\n",
       "      <td>20200124</td>\n",
       "      <td>Afghanistan</td>\n",
       "      <td>0</td>\n",
       "      <td>0</td>\n",
       "      <td>0</td>\n",
       "    </tr>\n",
       "    <tr>\n",
       "      <th>3</th>\n",
       "      <td>20200125</td>\n",
       "      <td>Afghanistan</td>\n",
       "      <td>0</td>\n",
       "      <td>0</td>\n",
       "      <td>0</td>\n",
       "    </tr>\n",
       "    <tr>\n",
       "      <th>4</th>\n",
       "      <td>20200126</td>\n",
       "      <td>Afghanistan</td>\n",
       "      <td>0</td>\n",
       "      <td>0</td>\n",
       "      <td>0</td>\n",
       "    </tr>\n",
       "  </tbody>\n",
       "</table>\n",
       "</div>"
      ],
      "text/plain": [
       "       Date Country/Region  Confirmed  Recovered  Deaths\n",
       "0  20200122    Afghanistan          0          0       0\n",
       "1  20200123    Afghanistan          0          0       0\n",
       "2  20200124    Afghanistan          0          0       0\n",
       "3  20200125    Afghanistan          0          0       0\n",
       "4  20200126    Afghanistan          0          0       0"
      ]
     },
     "execution_count": 54,
     "metadata": {},
     "output_type": "execute_result"
    }
   ],
   "source": [
    "data.head()"
   ]
  },
  {
   "cell_type": "code",
   "execution_count": 55,
   "metadata": {},
   "outputs": [],
   "source": [
    "def object_to_int(data,coloum):\n",
    "    index = -1\n",
    "    info_dict = {}\n",
    "    all_info = []\n",
    "    for i in data[coloum]:\n",
    "        if i not in info_dict:\n",
    "            index = index + 1\n",
    "            info_dict[i] = index\n",
    "    for x in data[coloum]:\n",
    "        all_info.append(info_dict[x])\n",
    "    return all_info,info_dict"
   ]
  },
  {
   "cell_type": "code",
   "execution_count": 56,
   "metadata": {},
   "outputs": [],
   "source": [
    "info = object_to_int(data,'Country/Region')\n",
    "with open('city.json','w') as json_file:\n",
    "    import json\n",
    "    json.dump(info[1],json_file)\n",
    "data['Country/Region'] = info[0]"
   ]
  },
  {
   "cell_type": "code",
   "execution_count": 57,
   "metadata": {},
   "outputs": [
    {
     "data": {
      "text/html": [
       "<div>\n",
       "<style scoped>\n",
       "    .dataframe tbody tr th:only-of-type {\n",
       "        vertical-align: middle;\n",
       "    }\n",
       "\n",
       "    .dataframe tbody tr th {\n",
       "        vertical-align: top;\n",
       "    }\n",
       "\n",
       "    .dataframe thead th {\n",
       "        text-align: right;\n",
       "    }\n",
       "</style>\n",
       "<table border=\"1\" class=\"dataframe\">\n",
       "  <thead>\n",
       "    <tr style=\"text-align: right;\">\n",
       "      <th></th>\n",
       "      <th>Date</th>\n",
       "      <th>Country/Region</th>\n",
       "      <th>Confirmed</th>\n",
       "      <th>Recovered</th>\n",
       "      <th>Deaths</th>\n",
       "    </tr>\n",
       "  </thead>\n",
       "  <tbody>\n",
       "    <tr>\n",
       "      <th>0</th>\n",
       "      <td>20200122</td>\n",
       "      <td>0</td>\n",
       "      <td>0</td>\n",
       "      <td>0</td>\n",
       "      <td>0</td>\n",
       "    </tr>\n",
       "    <tr>\n",
       "      <th>1</th>\n",
       "      <td>20200123</td>\n",
       "      <td>0</td>\n",
       "      <td>0</td>\n",
       "      <td>0</td>\n",
       "      <td>0</td>\n",
       "    </tr>\n",
       "    <tr>\n",
       "      <th>2</th>\n",
       "      <td>20200124</td>\n",
       "      <td>0</td>\n",
       "      <td>0</td>\n",
       "      <td>0</td>\n",
       "      <td>0</td>\n",
       "    </tr>\n",
       "    <tr>\n",
       "      <th>3</th>\n",
       "      <td>20200125</td>\n",
       "      <td>0</td>\n",
       "      <td>0</td>\n",
       "      <td>0</td>\n",
       "      <td>0</td>\n",
       "    </tr>\n",
       "    <tr>\n",
       "      <th>4</th>\n",
       "      <td>20200126</td>\n",
       "      <td>0</td>\n",
       "      <td>0</td>\n",
       "      <td>0</td>\n",
       "      <td>0</td>\n",
       "    </tr>\n",
       "  </tbody>\n",
       "</table>\n",
       "</div>"
      ],
      "text/plain": [
       "       Date  Country/Region  Confirmed  Recovered  Deaths\n",
       "0  20200122               0          0          0       0\n",
       "1  20200123               0          0          0       0\n",
       "2  20200124               0          0          0       0\n",
       "3  20200125               0          0          0       0\n",
       "4  20200126               0          0          0       0"
      ]
     },
     "execution_count": 57,
     "metadata": {},
     "output_type": "execute_result"
    }
   ],
   "source": [
    "data.head()"
   ]
  },
  {
   "cell_type": "code",
   "execution_count": 59,
   "metadata": {},
   "outputs": [
    {
     "data": {
      "text/plain": [
       "Date              int64\n",
       "Country/Region    int64\n",
       "Confirmed         int64\n",
       "Recovered         int64\n",
       "Deaths            int64\n",
       "dtype: object"
      ]
     },
     "execution_count": 59,
     "metadata": {},
     "output_type": "execute_result"
    }
   ],
   "source": [
    "data.dtypes"
   ]
  },
  {
   "cell_type": "code",
   "execution_count": 122,
   "metadata": {},
   "outputs": [],
   "source": [
    "X = data.drop(['Confirmed','Deaths','Recovered'],axis=1)\n",
    "y = data.drop(['Date','Country/Region'],axis=1)"
   ]
  },
  {
   "cell_type": "code",
   "execution_count": 123,
   "metadata": {},
   "outputs": [],
   "source": [
    "from sklearn.model_selection import *\n",
    "from sklearn.metrics import *"
   ]
  },
  {
   "cell_type": "code",
   "execution_count": 124,
   "metadata": {},
   "outputs": [
    {
     "ename": "ValueError",
     "evalue": "Found input variables with inconsistent numbers of samples: [208026, 312039]",
     "output_type": "error",
     "traceback": [
      "\u001b[0;31m---------------------------------------------------------------------------\u001b[0m",
      "\u001b[0;31mValueError\u001b[0m                                Traceback (most recent call last)",
      "\u001b[0;32m<ipython-input-124-38946ee065c0>\u001b[0m in \u001b[0;36m<module>\u001b[0;34m\u001b[0m\n\u001b[0;32m----> 1\u001b[0;31m \u001b[0mX_train\u001b[0m\u001b[0;34m,\u001b[0m\u001b[0mX_test\u001b[0m\u001b[0;34m,\u001b[0m\u001b[0my_train\u001b[0m\u001b[0;34m,\u001b[0m\u001b[0my_test\u001b[0m \u001b[0;34m=\u001b[0m \u001b[0mtrain_test_split\u001b[0m\u001b[0;34m(\u001b[0m\u001b[0mX\u001b[0m\u001b[0;34m,\u001b[0m\u001b[0my\u001b[0m\u001b[0;34m,\u001b[0m\u001b[0mtest_size\u001b[0m\u001b[0;34m=\u001b[0m\u001b[0;36m0.25\u001b[0m\u001b[0;34m)\u001b[0m\u001b[0;34m\u001b[0m\u001b[0;34m\u001b[0m\u001b[0m\n\u001b[0m",
      "\u001b[0;32m~/.local/lib/python3.8/site-packages/sklearn/model_selection/_split.py\u001b[0m in \u001b[0;36mtrain_test_split\u001b[0;34m(*arrays, **options)\u001b[0m\n\u001b[1;32m   2125\u001b[0m         \u001b[0;32mraise\u001b[0m \u001b[0mTypeError\u001b[0m\u001b[0;34m(\u001b[0m\u001b[0;34m\"Invalid parameters passed: %s\"\u001b[0m \u001b[0;34m%\u001b[0m \u001b[0mstr\u001b[0m\u001b[0;34m(\u001b[0m\u001b[0moptions\u001b[0m\u001b[0;34m)\u001b[0m\u001b[0;34m)\u001b[0m\u001b[0;34m\u001b[0m\u001b[0;34m\u001b[0m\u001b[0m\n\u001b[1;32m   2126\u001b[0m \u001b[0;34m\u001b[0m\u001b[0m\n\u001b[0;32m-> 2127\u001b[0;31m     \u001b[0marrays\u001b[0m \u001b[0;34m=\u001b[0m \u001b[0mindexable\u001b[0m\u001b[0;34m(\u001b[0m\u001b[0;34m*\u001b[0m\u001b[0marrays\u001b[0m\u001b[0;34m)\u001b[0m\u001b[0;34m\u001b[0m\u001b[0;34m\u001b[0m\u001b[0m\n\u001b[0m\u001b[1;32m   2128\u001b[0m \u001b[0;34m\u001b[0m\u001b[0m\n\u001b[1;32m   2129\u001b[0m     \u001b[0mn_samples\u001b[0m \u001b[0;34m=\u001b[0m \u001b[0m_num_samples\u001b[0m\u001b[0;34m(\u001b[0m\u001b[0marrays\u001b[0m\u001b[0;34m[\u001b[0m\u001b[0;36m0\u001b[0m\u001b[0;34m]\u001b[0m\u001b[0;34m)\u001b[0m\u001b[0;34m\u001b[0m\u001b[0;34m\u001b[0m\u001b[0m\n",
      "\u001b[0;32m~/.local/lib/python3.8/site-packages/sklearn/utils/validation.py\u001b[0m in \u001b[0;36mindexable\u001b[0;34m(*iterables)\u001b[0m\n\u001b[1;32m    290\u001b[0m     \"\"\"\n\u001b[1;32m    291\u001b[0m     \u001b[0mresult\u001b[0m \u001b[0;34m=\u001b[0m \u001b[0;34m[\u001b[0m\u001b[0m_make_indexable\u001b[0m\u001b[0;34m(\u001b[0m\u001b[0mX\u001b[0m\u001b[0;34m)\u001b[0m \u001b[0;32mfor\u001b[0m \u001b[0mX\u001b[0m \u001b[0;32min\u001b[0m \u001b[0miterables\u001b[0m\u001b[0;34m]\u001b[0m\u001b[0;34m\u001b[0m\u001b[0;34m\u001b[0m\u001b[0m\n\u001b[0;32m--> 292\u001b[0;31m     \u001b[0mcheck_consistent_length\u001b[0m\u001b[0;34m(\u001b[0m\u001b[0;34m*\u001b[0m\u001b[0mresult\u001b[0m\u001b[0;34m)\u001b[0m\u001b[0;34m\u001b[0m\u001b[0;34m\u001b[0m\u001b[0m\n\u001b[0m\u001b[1;32m    293\u001b[0m     \u001b[0;32mreturn\u001b[0m \u001b[0mresult\u001b[0m\u001b[0;34m\u001b[0m\u001b[0;34m\u001b[0m\u001b[0m\n\u001b[1;32m    294\u001b[0m \u001b[0;34m\u001b[0m\u001b[0m\n",
      "\u001b[0;32m~/.local/lib/python3.8/site-packages/sklearn/utils/validation.py\u001b[0m in \u001b[0;36mcheck_consistent_length\u001b[0;34m(*arrays)\u001b[0m\n\u001b[1;32m    253\u001b[0m     \u001b[0muniques\u001b[0m \u001b[0;34m=\u001b[0m \u001b[0mnp\u001b[0m\u001b[0;34m.\u001b[0m\u001b[0munique\u001b[0m\u001b[0;34m(\u001b[0m\u001b[0mlengths\u001b[0m\u001b[0;34m)\u001b[0m\u001b[0;34m\u001b[0m\u001b[0;34m\u001b[0m\u001b[0m\n\u001b[1;32m    254\u001b[0m     \u001b[0;32mif\u001b[0m \u001b[0mlen\u001b[0m\u001b[0;34m(\u001b[0m\u001b[0muniques\u001b[0m\u001b[0;34m)\u001b[0m \u001b[0;34m>\u001b[0m \u001b[0;36m1\u001b[0m\u001b[0;34m:\u001b[0m\u001b[0;34m\u001b[0m\u001b[0;34m\u001b[0m\u001b[0m\n\u001b[0;32m--> 255\u001b[0;31m         raise ValueError(\"Found input variables with inconsistent numbers of\"\n\u001b[0m\u001b[1;32m    256\u001b[0m                          \" samples: %r\" % [int(l) for l in lengths])\n\u001b[1;32m    257\u001b[0m \u001b[0;34m\u001b[0m\u001b[0m\n",
      "\u001b[0;31mValueError\u001b[0m: Found input variables with inconsistent numbers of samples: [208026, 312039]"
     ]
    }
   ],
   "source": [
    "X_train,X_test,y_train,y_test = train_test_split(X,y,test_size=0.25)"
   ]
  },
  {
   "cell_type": "code",
   "execution_count": 89,
   "metadata": {},
   "outputs": [],
   "source": [
    "from sklearn.tree import *\n",
    "from sklearn.ensemble import *"
   ]
  },
  {
   "cell_type": "code",
   "execution_count": 90,
   "metadata": {},
   "outputs": [
    {
     "data": {
      "text/plain": [
       "0.9712875000562974"
      ]
     },
     "execution_count": 90,
     "metadata": {},
     "output_type": "execute_result"
    }
   ],
   "source": [
    "model_RandomForestRegressor = RandomForestRegressor().fit(X_train,y_train)\n",
    "model_RandomForestRegressor.score(X_test,y_test)"
   ]
  },
  {
   "cell_type": "code",
   "execution_count": 91,
   "metadata": {},
   "outputs": [
    {
     "data": {
      "text/plain": [
       "0.9706971252349169"
      ]
     },
     "execution_count": 91,
     "metadata": {},
     "output_type": "execute_result"
    }
   ],
   "source": [
    "model_DecisionTreeRegressor = DecisionTreeRegressor().fit(X_train,y_train)\n",
    "model_DecisionTreeRegressor.score(X_test,y_test)"
   ]
  },
  {
   "cell_type": "code",
   "execution_count": 92,
   "metadata": {},
   "outputs": [
    {
     "data": {
      "text/plain": [
       "163"
      ]
     },
     "execution_count": 92,
     "metadata": {},
     "output_type": "execute_result"
    }
   ],
   "source": [
    "info[1]['Sri Lanka']"
   ]
  },
  {
   "cell_type": "code",
   "execution_count": 130,
   "metadata": {},
   "outputs": [],
   "source": [
    "array = np.array([[20210207,163]])\n",
    "# array.reshape(-1,1)"
   ]
  },
  {
   "cell_type": "code",
   "execution_count": 131,
   "metadata": {},
   "outputs": [
    {
     "data": {
      "text/plain": [
       "array([[67135.95333333, 60617.338     ,   338.55133333]])"
      ]
     },
     "execution_count": 131,
     "metadata": {},
     "output_type": "execute_result"
    }
   ],
   "source": [
    "model_RandomForestRegressor.predict(array)"
   ]
  },
  {
   "cell_type": "code",
   "execution_count": 133,
   "metadata": {},
   "outputs": [],
   "source": [
    "import pickle"
   ]
  },
  {
   "cell_type": "code",
   "execution_count": 134,
   "metadata": {},
   "outputs": [],
   "source": [
    "pickle.dump(model_DecisionTreeRegressor,open('./model_DTR.pkl','wb'))\n",
    "pickle.dump(model_RandomForestRegressor,open('./model_RFR.pkl','wb'))"
   ]
  },
  {
   "cell_type": "code",
   "execution_count": 143,
   "metadata": {},
   "outputs": [
    {
     "name": "stdout",
     "output_type": "stream",
     "text": [
      "Fitting 5 folds for each of 25 candidates, totalling 125 fits\n",
      "[CV] splitter=random, min_samples_leaf=4, max_features=auto, max_depth=None \n",
      "[CV]  splitter=random, min_samples_leaf=4, max_features=auto, max_depth=None, score=0.906, total=   0.0s\n",
      "[CV] splitter=random, min_samples_leaf=4, max_features=auto, max_depth=None \n",
      "[CV]  splitter=random, min_samples_leaf=4, max_features=auto, max_depth=None, score=0.928, total=   0.0s\n",
      "[CV] splitter=random, min_samples_leaf=4, max_features=auto, max_depth=None \n",
      "[CV]  splitter=random, min_samples_leaf=4, max_features=auto, max_depth=None, score=0.944, total=   0.0s\n",
      "[CV] splitter=random, min_samples_leaf=4, max_features=auto, max_depth=None \n",
      "[CV]  splitter=random, min_samples_leaf=4, max_features=auto, max_depth=None, score=0.934, total=   0.0s\n",
      "[CV] splitter=random, min_samples_leaf=4, max_features=auto, max_depth=None \n"
     ]
    },
    {
     "name": "stderr",
     "output_type": "stream",
     "text": [
      "[Parallel(n_jobs=1)]: Using backend SequentialBackend with 1 concurrent workers.\n",
      "[Parallel(n_jobs=1)]: Done   1 out of   1 | elapsed:    0.0s remaining:    0.0s\n",
      "[Parallel(n_jobs=1)]: Done   2 out of   2 | elapsed:    0.1s remaining:    0.0s\n",
      "[Parallel(n_jobs=1)]: Done   3 out of   3 | elapsed:    0.1s remaining:    0.0s\n",
      "[Parallel(n_jobs=1)]: Done   4 out of   4 | elapsed:    0.2s remaining:    0.0s\n"
     ]
    },
    {
     "name": "stdout",
     "output_type": "stream",
     "text": [
      "[CV]  splitter=random, min_samples_leaf=4, max_features=auto, max_depth=None, score=0.955, total=   0.0s\n",
      "[CV] splitter=random, min_samples_leaf=6, max_features=auto, max_depth=5 \n",
      "[CV]  splitter=random, min_samples_leaf=6, max_features=auto, max_depth=5, score=0.050, total=   0.0s\n",
      "[CV] splitter=random, min_samples_leaf=6, max_features=auto, max_depth=5 \n",
      "[CV]  splitter=random, min_samples_leaf=6, max_features=auto, max_depth=5, score=0.069, total=   0.0s\n",
      "[CV] splitter=random, min_samples_leaf=6, max_features=auto, max_depth=5 \n",
      "[CV]  splitter=random, min_samples_leaf=6, max_features=auto, max_depth=5, score=0.044, total=   0.0s\n",
      "[CV] splitter=random, min_samples_leaf=6, max_features=auto, max_depth=5 \n",
      "[CV]  splitter=random, min_samples_leaf=6, max_features=auto, max_depth=5, score=0.036, total=   0.0s\n",
      "[CV] splitter=random, min_samples_leaf=6, max_features=auto, max_depth=5 \n",
      "[CV]  splitter=random, min_samples_leaf=6, max_features=auto, max_depth=5, score=0.206, total=   0.0s\n",
      "[CV] splitter=best, min_samples_leaf=2, max_features=sqrt, max_depth=45 \n",
      "[CV]  splitter=best, min_samples_leaf=2, max_features=sqrt, max_depth=45, score=0.835, total=   0.1s\n",
      "[CV] splitter=best, min_samples_leaf=2, max_features=sqrt, max_depth=45 \n"
     ]
    },
    {
     "name": "stderr",
     "output_type": "stream",
     "text": [
      "[Parallel(n_jobs=1)]: Done   5 out of   5 | elapsed:    0.2s remaining:    0.0s\n",
      "[Parallel(n_jobs=1)]: Done   6 out of   6 | elapsed:    0.2s remaining:    0.0s\n",
      "[Parallel(n_jobs=1)]: Done   7 out of   7 | elapsed:    0.2s remaining:    0.0s\n",
      "[Parallel(n_jobs=1)]: Done   8 out of   8 | elapsed:    0.3s remaining:    0.0s\n",
      "[Parallel(n_jobs=1)]: Done   9 out of   9 | elapsed:    0.3s remaining:    0.0s\n",
      "[Parallel(n_jobs=1)]: Done  10 out of  10 | elapsed:    0.3s remaining:    0.0s\n",
      "[Parallel(n_jobs=1)]: Done  11 out of  11 | elapsed:    0.4s remaining:    0.0s\n"
     ]
    },
    {
     "name": "stdout",
     "output_type": "stream",
     "text": [
      "[CV]  splitter=best, min_samples_leaf=2, max_features=sqrt, max_depth=45, score=0.867, total=   0.1s\n",
      "[CV] splitter=best, min_samples_leaf=2, max_features=sqrt, max_depth=45 \n",
      "[CV]  splitter=best, min_samples_leaf=2, max_features=sqrt, max_depth=45, score=0.764, total=   0.1s\n",
      "[CV] splitter=best, min_samples_leaf=2, max_features=sqrt, max_depth=45 \n",
      "[CV]  splitter=best, min_samples_leaf=2, max_features=sqrt, max_depth=45, score=0.670, total=   0.1s\n",
      "[CV] splitter=best, min_samples_leaf=2, max_features=sqrt, max_depth=45 \n"
     ]
    },
    {
     "name": "stderr",
     "output_type": "stream",
     "text": [
      "[Parallel(n_jobs=1)]: Done  12 out of  12 | elapsed:    0.4s remaining:    0.0s\n",
      "[Parallel(n_jobs=1)]: Done  13 out of  13 | elapsed:    0.5s remaining:    0.0s\n",
      "[Parallel(n_jobs=1)]: Done  14 out of  14 | elapsed:    0.6s remaining:    0.0s\n"
     ]
    },
    {
     "name": "stdout",
     "output_type": "stream",
     "text": [
      "[CV]  splitter=best, min_samples_leaf=2, max_features=sqrt, max_depth=45, score=0.732, total=   0.1s\n",
      "[CV] splitter=best, min_samples_leaf=6, max_features=sqrt, max_depth=50 \n",
      "[CV]  splitter=best, min_samples_leaf=6, max_features=sqrt, max_depth=50, score=0.750, total=   0.1s\n",
      "[CV] splitter=best, min_samples_leaf=6, max_features=sqrt, max_depth=50 \n",
      "[CV]  splitter=best, min_samples_leaf=6, max_features=sqrt, max_depth=50, score=0.880, total=   0.1s\n",
      "[CV] splitter=best, min_samples_leaf=6, max_features=sqrt, max_depth=50 \n",
      "[CV]  splitter=best, min_samples_leaf=6, max_features=sqrt, max_depth=50, score=0.789, total=   0.1s\n",
      "[CV] splitter=best, min_samples_leaf=6, max_features=sqrt, max_depth=50 \n"
     ]
    },
    {
     "name": "stderr",
     "output_type": "stream",
     "text": [
      "[Parallel(n_jobs=1)]: Done  15 out of  15 | elapsed:    0.6s remaining:    0.0s\n",
      "[Parallel(n_jobs=1)]: Done  16 out of  16 | elapsed:    0.7s remaining:    0.0s\n",
      "[Parallel(n_jobs=1)]: Done  17 out of  17 | elapsed:    0.8s remaining:    0.0s\n",
      "[Parallel(n_jobs=1)]: Done  18 out of  18 | elapsed:    0.8s remaining:    0.0s\n"
     ]
    },
    {
     "name": "stdout",
     "output_type": "stream",
     "text": [
      "[CV]  splitter=best, min_samples_leaf=6, max_features=sqrt, max_depth=50, score=0.616, total=   0.1s\n",
      "[CV] splitter=best, min_samples_leaf=6, max_features=sqrt, max_depth=50 \n",
      "[CV]  splitter=best, min_samples_leaf=6, max_features=sqrt, max_depth=50, score=0.539, total=   0.1s\n",
      "[CV] splitter=random, min_samples_leaf=6, max_features=auto, max_depth=None \n",
      "[CV]  splitter=random, min_samples_leaf=6, max_features=auto, max_depth=None, score=0.950, total=   0.0s\n",
      "[CV] splitter=random, min_samples_leaf=6, max_features=auto, max_depth=None \n",
      "[CV]  splitter=random, min_samples_leaf=6, max_features=auto, max_depth=None, score=0.945, total=   0.0s\n",
      "[CV] splitter=random, min_samples_leaf=6, max_features=auto, max_depth=None \n",
      "[CV]  splitter=random, min_samples_leaf=6, max_features=auto, max_depth=None, score=0.925, total=   0.0s\n",
      "[CV] splitter=random, min_samples_leaf=6, max_features=auto, max_depth=None \n"
     ]
    },
    {
     "name": "stderr",
     "output_type": "stream",
     "text": [
      "[Parallel(n_jobs=1)]: Done  19 out of  19 | elapsed:    0.9s remaining:    0.0s\n",
      "[Parallel(n_jobs=1)]: Done  20 out of  20 | elapsed:    1.0s remaining:    0.0s\n",
      "[Parallel(n_jobs=1)]: Done  21 out of  21 | elapsed:    1.0s remaining:    0.0s\n",
      "[Parallel(n_jobs=1)]: Done  22 out of  22 | elapsed:    1.0s remaining:    0.0s\n",
      "[Parallel(n_jobs=1)]: Done  23 out of  23 | elapsed:    1.1s remaining:    0.0s\n"
     ]
    },
    {
     "name": "stdout",
     "output_type": "stream",
     "text": [
      "[CV]  splitter=random, min_samples_leaf=6, max_features=auto, max_depth=None, score=0.938, total=   0.0s\n",
      "[CV] splitter=random, min_samples_leaf=6, max_features=auto, max_depth=None \n",
      "[CV]  splitter=random, min_samples_leaf=6, max_features=auto, max_depth=None, score=0.936, total=   0.0s\n",
      "[CV] splitter=random, min_samples_leaf=6, max_features=log2, max_depth=20 \n",
      "[CV]  splitter=random, min_samples_leaf=6, max_features=log2, max_depth=20, score=0.256, total=   0.0s\n",
      "[CV] splitter=random, min_samples_leaf=6, max_features=log2, max_depth=20 \n",
      "[CV]  splitter=random, min_samples_leaf=6, max_features=log2, max_depth=20, score=0.398, total=   0.0s\n",
      "[CV] splitter=random, min_samples_leaf=6, max_features=log2, max_depth=20 \n",
      "[CV]  splitter=random, min_samples_leaf=6, max_features=log2, max_depth=20, score=0.312, total=   0.0s\n",
      "[CV] splitter=random, min_samples_leaf=6, max_features=log2, max_depth=20 \n",
      "[CV]  splitter=random, min_samples_leaf=6, max_features=log2, max_depth=20, score=0.473, total=   0.0s\n",
      "[CV] splitter=random, min_samples_leaf=6, max_features=log2, max_depth=20 \n",
      "[CV]  splitter=random, min_samples_leaf=6, max_features=log2, max_depth=20, score=0.406, total=   0.0s\n",
      "[CV] splitter=best, min_samples_leaf=6, max_features=auto, max_depth=50 \n"
     ]
    },
    {
     "name": "stderr",
     "output_type": "stream",
     "text": [
      "[Parallel(n_jobs=1)]: Done  24 out of  24 | elapsed:    1.1s remaining:    0.0s\n"
     ]
    },
    {
     "name": "stdout",
     "output_type": "stream",
     "text": [
      "[CV]  splitter=best, min_samples_leaf=6, max_features=auto, max_depth=50, score=0.971, total=   0.1s\n",
      "[CV] splitter=best, min_samples_leaf=6, max_features=auto, max_depth=50 \n",
      "[CV]  splitter=best, min_samples_leaf=6, max_features=auto, max_depth=50, score=0.976, total=   0.1s\n",
      "[CV] splitter=best, min_samples_leaf=6, max_features=auto, max_depth=50 \n",
      "[CV]  splitter=best, min_samples_leaf=6, max_features=auto, max_depth=50, score=0.976, total=   0.1s\n",
      "[CV] splitter=best, min_samples_leaf=6, max_features=auto, max_depth=50 \n",
      "[CV]  splitter=best, min_samples_leaf=6, max_features=auto, max_depth=50, score=0.977, total=   0.1s\n",
      "[CV] splitter=best, min_samples_leaf=6, max_features=auto, max_depth=50 \n",
      "[CV]  splitter=best, min_samples_leaf=6, max_features=auto, max_depth=50, score=0.977, total=   0.1s\n",
      "[CV] splitter=random, min_samples_leaf=4, max_features=log2, max_depth=45 \n",
      "[CV]  splitter=random, min_samples_leaf=4, max_features=log2, max_depth=45, score=0.322, total=   0.0s\n",
      "[CV] splitter=random, min_samples_leaf=4, max_features=log2, max_depth=45 \n",
      "[CV]  splitter=random, min_samples_leaf=4, max_features=log2, max_depth=45, score=0.588, total=   0.0s\n",
      "[CV] splitter=random, min_samples_leaf=4, max_features=log2, max_depth=45 \n",
      "[CV]  splitter=random, min_samples_leaf=4, max_features=log2, max_depth=45, score=0.424, total=   0.0s\n",
      "[CV] splitter=random, min_samples_leaf=4, max_features=log2, max_depth=45 \n",
      "[CV]  splitter=random, min_samples_leaf=4, max_features=log2, max_depth=45, score=0.627, total=   0.0s\n",
      "[CV] splitter=random, min_samples_leaf=4, max_features=log2, max_depth=45 \n",
      "[CV]  splitter=random, min_samples_leaf=4, max_features=log2, max_depth=45, score=0.462, total=   0.0s\n",
      "[CV] splitter=best, min_samples_leaf=6, max_features=sqrt, max_depth=35 \n",
      "[CV]  splitter=best, min_samples_leaf=6, max_features=sqrt, max_depth=35, score=0.940, total=   0.1s\n",
      "[CV] splitter=best, min_samples_leaf=6, max_features=sqrt, max_depth=35 \n",
      "[CV]  splitter=best, min_samples_leaf=6, max_features=sqrt, max_depth=35, score=0.717, total=   0.1s\n",
      "[CV] splitter=best, min_samples_leaf=6, max_features=sqrt, max_depth=35 \n",
      "[CV]  splitter=best, min_samples_leaf=6, max_features=sqrt, max_depth=35, score=0.652, total=   0.1s\n",
      "[CV] splitter=best, min_samples_leaf=6, max_features=sqrt, max_depth=35 \n",
      "[CV]  splitter=best, min_samples_leaf=6, max_features=sqrt, max_depth=35, score=0.801, total=   0.1s\n",
      "[CV] splitter=best, min_samples_leaf=6, max_features=sqrt, max_depth=35 \n",
      "[CV]  splitter=best, min_samples_leaf=6, max_features=sqrt, max_depth=35, score=0.629, total=   0.1s\n",
      "[CV] splitter=best, min_samples_leaf=4, max_features=auto, max_depth=25 \n",
      "[CV]  splitter=best, min_samples_leaf=4, max_features=auto, max_depth=25, score=0.971, total=   0.1s\n",
      "[CV] splitter=best, min_samples_leaf=4, max_features=auto, max_depth=25 \n",
      "[CV]  splitter=best, min_samples_leaf=4, max_features=auto, max_depth=25, score=0.976, total=   0.1s\n",
      "[CV] splitter=best, min_samples_leaf=4, max_features=auto, max_depth=25 \n",
      "[CV]  splitter=best, min_samples_leaf=4, max_features=auto, max_depth=25, score=0.976, total=   0.1s\n",
      "[CV] splitter=best, min_samples_leaf=4, max_features=auto, max_depth=25 \n",
      "[CV]  splitter=best, min_samples_leaf=4, max_features=auto, max_depth=25, score=0.977, total=   0.1s\n",
      "[CV] splitter=best, min_samples_leaf=4, max_features=auto, max_depth=25 \n",
      "[CV]  splitter=best, min_samples_leaf=4, max_features=auto, max_depth=25, score=0.977, total=   0.1s\n",
      "[CV] splitter=best, min_samples_leaf=2, max_features=auto, max_depth=35 \n",
      "[CV]  splitter=best, min_samples_leaf=2, max_features=auto, max_depth=35, score=0.972, total=   0.1s\n",
      "[CV] splitter=best, min_samples_leaf=2, max_features=auto, max_depth=35 \n",
      "[CV]  splitter=best, min_samples_leaf=2, max_features=auto, max_depth=35, score=0.977, total=   0.1s\n",
      "[CV] splitter=best, min_samples_leaf=2, max_features=auto, max_depth=35 \n",
      "[CV]  splitter=best, min_samples_leaf=2, max_features=auto, max_depth=35, score=0.977, total=   0.1s\n",
      "[CV] splitter=best, min_samples_leaf=2, max_features=auto, max_depth=35 \n",
      "[CV]  splitter=best, min_samples_leaf=2, max_features=auto, max_depth=35, score=0.978, total=   0.1s\n",
      "[CV] splitter=best, min_samples_leaf=2, max_features=auto, max_depth=35 \n",
      "[CV]  splitter=best, min_samples_leaf=2, max_features=auto, max_depth=35, score=0.977, total=   0.1s\n",
      "[CV] splitter=random, min_samples_leaf=8, max_features=sqrt, max_depth=20 \n",
      "[CV]  splitter=random, min_samples_leaf=8, max_features=sqrt, max_depth=20, score=0.104, total=   0.0s\n",
      "[CV] splitter=random, min_samples_leaf=8, max_features=sqrt, max_depth=20 \n",
      "[CV]  splitter=random, min_samples_leaf=8, max_features=sqrt, max_depth=20, score=0.351, total=   0.0s\n",
      "[CV] splitter=random, min_samples_leaf=8, max_features=sqrt, max_depth=20 \n",
      "[CV]  splitter=random, min_samples_leaf=8, max_features=sqrt, max_depth=20, score=0.473, total=   0.0s\n",
      "[CV] splitter=random, min_samples_leaf=8, max_features=sqrt, max_depth=20 \n",
      "[CV]  splitter=random, min_samples_leaf=8, max_features=sqrt, max_depth=20, score=0.246, total=   0.0s\n",
      "[CV] splitter=random, min_samples_leaf=8, max_features=sqrt, max_depth=20 \n",
      "[CV]  splitter=random, min_samples_leaf=8, max_features=sqrt, max_depth=20, score=0.376, total=   0.0s\n",
      "[CV] splitter=best, min_samples_leaf=4, max_features=sqrt, max_depth=5 \n",
      "[CV]  splitter=best, min_samples_leaf=4, max_features=sqrt, max_depth=5, score=0.154, total=   0.0s\n",
      "[CV] splitter=best, min_samples_leaf=4, max_features=sqrt, max_depth=5 \n",
      "[CV]  splitter=best, min_samples_leaf=4, max_features=sqrt, max_depth=5, score=0.623, total=   0.0s\n",
      "[CV] splitter=best, min_samples_leaf=4, max_features=sqrt, max_depth=5 \n",
      "[CV]  splitter=best, min_samples_leaf=4, max_features=sqrt, max_depth=5, score=0.149, total=   0.0s\n",
      "[CV] splitter=best, min_samples_leaf=4, max_features=sqrt, max_depth=5 \n",
      "[CV]  splitter=best, min_samples_leaf=4, max_features=sqrt, max_depth=5, score=0.647, total=   0.0s\n",
      "[CV] splitter=best, min_samples_leaf=4, max_features=sqrt, max_depth=5 \n",
      "[CV]  splitter=best, min_samples_leaf=4, max_features=sqrt, max_depth=5, score=0.383, total=   0.0s\n",
      "[CV] splitter=best, min_samples_leaf=2, max_features=log2, max_depth=20 \n",
      "[CV]  splitter=best, min_samples_leaf=2, max_features=log2, max_depth=20, score=0.939, total=   0.1s\n",
      "[CV] splitter=best, min_samples_leaf=2, max_features=log2, max_depth=20 \n",
      "[CV]  splitter=best, min_samples_leaf=2, max_features=log2, max_depth=20, score=0.853, total=   0.1s\n",
      "[CV] splitter=best, min_samples_leaf=2, max_features=log2, max_depth=20 \n",
      "[CV]  splitter=best, min_samples_leaf=2, max_features=log2, max_depth=20, score=0.678, total=   0.1s\n",
      "[CV] splitter=best, min_samples_leaf=2, max_features=log2, max_depth=20 \n",
      "[CV]  splitter=best, min_samples_leaf=2, max_features=log2, max_depth=20, score=0.908, total=   0.1s\n",
      "[CV] splitter=best, min_samples_leaf=2, max_features=log2, max_depth=20 \n",
      "[CV]  splitter=best, min_samples_leaf=2, max_features=log2, max_depth=20, score=0.847, total=   0.1s\n",
      "[CV] splitter=best, min_samples_leaf=4, max_features=log2, max_depth=15 \n",
      "[CV]  splitter=best, min_samples_leaf=4, max_features=log2, max_depth=15, score=0.788, total=   0.1s\n",
      "[CV] splitter=best, min_samples_leaf=4, max_features=log2, max_depth=15 \n",
      "[CV]  splitter=best, min_samples_leaf=4, max_features=log2, max_depth=15, score=0.738, total=   0.1s\n",
      "[CV] splitter=best, min_samples_leaf=4, max_features=log2, max_depth=15 \n",
      "[CV]  splitter=best, min_samples_leaf=4, max_features=log2, max_depth=15, score=0.911, total=   0.1s\n",
      "[CV] splitter=best, min_samples_leaf=4, max_features=log2, max_depth=15 \n",
      "[CV]  splitter=best, min_samples_leaf=4, max_features=log2, max_depth=15, score=0.561, total=   0.1s\n",
      "[CV] splitter=best, min_samples_leaf=4, max_features=log2, max_depth=15 \n",
      "[CV]  splitter=best, min_samples_leaf=4, max_features=log2, max_depth=15, score=0.794, total=   0.1s\n",
      "[CV] splitter=random, min_samples_leaf=10, max_features=sqrt, max_depth=50 \n",
      "[CV]  splitter=random, min_samples_leaf=10, max_features=sqrt, max_depth=50, score=0.312, total=   0.0s\n",
      "[CV] splitter=random, min_samples_leaf=10, max_features=sqrt, max_depth=50 \n",
      "[CV]  splitter=random, min_samples_leaf=10, max_features=sqrt, max_depth=50, score=0.126, total=   0.0s\n",
      "[CV] splitter=random, min_samples_leaf=10, max_features=sqrt, max_depth=50 \n",
      "[CV]  splitter=random, min_samples_leaf=10, max_features=sqrt, max_depth=50, score=0.365, total=   0.0s\n",
      "[CV] splitter=random, min_samples_leaf=10, max_features=sqrt, max_depth=50 \n",
      "[CV]  splitter=random, min_samples_leaf=10, max_features=sqrt, max_depth=50, score=0.163, total=   0.0s\n",
      "[CV] splitter=random, min_samples_leaf=10, max_features=sqrt, max_depth=50 \n"
     ]
    },
    {
     "name": "stdout",
     "output_type": "stream",
     "text": [
      "[CV]  splitter=random, min_samples_leaf=10, max_features=sqrt, max_depth=50, score=0.388, total=   0.0s\n",
      "[CV] splitter=best, min_samples_leaf=2, max_features=sqrt, max_depth=50 \n",
      "[CV]  splitter=best, min_samples_leaf=2, max_features=sqrt, max_depth=50, score=0.906, total=   0.1s\n",
      "[CV] splitter=best, min_samples_leaf=2, max_features=sqrt, max_depth=50 \n",
      "[CV]  splitter=best, min_samples_leaf=2, max_features=sqrt, max_depth=50, score=0.775, total=   0.1s\n",
      "[CV] splitter=best, min_samples_leaf=2, max_features=sqrt, max_depth=50 \n",
      "[CV]  splitter=best, min_samples_leaf=2, max_features=sqrt, max_depth=50, score=0.934, total=   0.1s\n",
      "[CV] splitter=best, min_samples_leaf=2, max_features=sqrt, max_depth=50 \n",
      "[CV]  splitter=best, min_samples_leaf=2, max_features=sqrt, max_depth=50, score=0.665, total=   0.1s\n",
      "[CV] splitter=best, min_samples_leaf=2, max_features=sqrt, max_depth=50 \n",
      "[CV]  splitter=best, min_samples_leaf=2, max_features=sqrt, max_depth=50, score=0.791, total=   0.1s\n",
      "[CV] splitter=best, min_samples_leaf=10, max_features=log2, max_depth=30 \n",
      "[CV]  splitter=best, min_samples_leaf=10, max_features=log2, max_depth=30, score=0.448, total=   0.1s\n",
      "[CV] splitter=best, min_samples_leaf=10, max_features=log2, max_depth=30 \n",
      "[CV]  splitter=best, min_samples_leaf=10, max_features=log2, max_depth=30, score=0.869, total=   0.1s\n",
      "[CV] splitter=best, min_samples_leaf=10, max_features=log2, max_depth=30 \n",
      "[CV]  splitter=best, min_samples_leaf=10, max_features=log2, max_depth=30, score=0.886, total=   0.1s\n",
      "[CV] splitter=best, min_samples_leaf=10, max_features=log2, max_depth=30 \n",
      "[CV]  splitter=best, min_samples_leaf=10, max_features=log2, max_depth=30, score=0.817, total=   0.1s\n",
      "[CV] splitter=best, min_samples_leaf=10, max_features=log2, max_depth=30 \n",
      "[CV]  splitter=best, min_samples_leaf=10, max_features=log2, max_depth=30, score=0.447, total=   0.1s\n",
      "[CV] splitter=best, min_samples_leaf=4, max_features=sqrt, max_depth=50 \n",
      "[CV]  splitter=best, min_samples_leaf=4, max_features=sqrt, max_depth=50, score=0.700, total=   0.1s\n",
      "[CV] splitter=best, min_samples_leaf=4, max_features=sqrt, max_depth=50 \n",
      "[CV]  splitter=best, min_samples_leaf=4, max_features=sqrt, max_depth=50, score=0.886, total=   0.1s\n",
      "[CV] splitter=best, min_samples_leaf=4, max_features=sqrt, max_depth=50 \n",
      "[CV]  splitter=best, min_samples_leaf=4, max_features=sqrt, max_depth=50, score=0.680, total=   0.1s\n",
      "[CV] splitter=best, min_samples_leaf=4, max_features=sqrt, max_depth=50 \n",
      "[CV]  splitter=best, min_samples_leaf=4, max_features=sqrt, max_depth=50, score=0.767, total=   0.1s\n",
      "[CV] splitter=best, min_samples_leaf=4, max_features=sqrt, max_depth=50 \n",
      "[CV]  splitter=best, min_samples_leaf=4, max_features=sqrt, max_depth=50, score=0.779, total=   0.1s\n",
      "[CV] splitter=best, min_samples_leaf=2, max_features=auto, max_depth=None \n",
      "[CV]  splitter=best, min_samples_leaf=2, max_features=auto, max_depth=None, score=0.972, total=   0.1s\n",
      "[CV] splitter=best, min_samples_leaf=2, max_features=auto, max_depth=None \n",
      "[CV]  splitter=best, min_samples_leaf=2, max_features=auto, max_depth=None, score=0.977, total=   0.1s\n",
      "[CV] splitter=best, min_samples_leaf=2, max_features=auto, max_depth=None \n",
      "[CV]  splitter=best, min_samples_leaf=2, max_features=auto, max_depth=None, score=0.977, total=   0.1s\n",
      "[CV] splitter=best, min_samples_leaf=2, max_features=auto, max_depth=None \n",
      "[CV]  splitter=best, min_samples_leaf=2, max_features=auto, max_depth=None, score=0.978, total=   0.1s\n",
      "[CV] splitter=best, min_samples_leaf=2, max_features=auto, max_depth=None \n",
      "[CV]  splitter=best, min_samples_leaf=2, max_features=auto, max_depth=None, score=0.977, total=   0.1s\n",
      "[CV] splitter=random, min_samples_leaf=10, max_features=sqrt, max_depth=35 \n",
      "[CV]  splitter=random, min_samples_leaf=10, max_features=sqrt, max_depth=35, score=0.160, total=   0.0s\n",
      "[CV] splitter=random, min_samples_leaf=10, max_features=sqrt, max_depth=35 \n",
      "[CV]  splitter=random, min_samples_leaf=10, max_features=sqrt, max_depth=35, score=0.190, total=   0.0s\n",
      "[CV] splitter=random, min_samples_leaf=10, max_features=sqrt, max_depth=35 \n",
      "[CV]  splitter=random, min_samples_leaf=10, max_features=sqrt, max_depth=35, score=0.197, total=   0.0s\n",
      "[CV] splitter=random, min_samples_leaf=10, max_features=sqrt, max_depth=35 \n",
      "[CV]  splitter=random, min_samples_leaf=10, max_features=sqrt, max_depth=35, score=0.264, total=   0.0s\n",
      "[CV] splitter=random, min_samples_leaf=10, max_features=sqrt, max_depth=35 \n",
      "[CV]  splitter=random, min_samples_leaf=10, max_features=sqrt, max_depth=35, score=0.065, total=   0.0s\n",
      "[CV] splitter=best, min_samples_leaf=4, max_features=log2, max_depth=25 \n",
      "[CV]  splitter=best, min_samples_leaf=4, max_features=log2, max_depth=25, score=0.933, total=   0.1s\n",
      "[CV] splitter=best, min_samples_leaf=4, max_features=log2, max_depth=25 \n",
      "[CV]  splitter=best, min_samples_leaf=4, max_features=log2, max_depth=25, score=0.958, total=   0.1s\n",
      "[CV] splitter=best, min_samples_leaf=4, max_features=log2, max_depth=25 \n",
      "[CV]  splitter=best, min_samples_leaf=4, max_features=log2, max_depth=25, score=0.823, total=   0.1s\n",
      "[CV] splitter=best, min_samples_leaf=4, max_features=log2, max_depth=25 \n",
      "[CV]  splitter=best, min_samples_leaf=4, max_features=log2, max_depth=25, score=0.927, total=   0.1s\n",
      "[CV] splitter=best, min_samples_leaf=4, max_features=log2, max_depth=25 \n",
      "[CV]  splitter=best, min_samples_leaf=4, max_features=log2, max_depth=25, score=0.811, total=   0.1s\n",
      "[CV] splitter=random, min_samples_leaf=2, max_features=sqrt, max_depth=None \n",
      "[CV]  splitter=random, min_samples_leaf=2, max_features=sqrt, max_depth=None, score=0.408, total=   0.0s\n",
      "[CV] splitter=random, min_samples_leaf=2, max_features=sqrt, max_depth=None \n",
      "[CV]  splitter=random, min_samples_leaf=2, max_features=sqrt, max_depth=None, score=0.317, total=   0.0s\n",
      "[CV] splitter=random, min_samples_leaf=2, max_features=sqrt, max_depth=None \n",
      "[CV]  splitter=random, min_samples_leaf=2, max_features=sqrt, max_depth=None, score=0.584, total=   0.0s\n",
      "[CV] splitter=random, min_samples_leaf=2, max_features=sqrt, max_depth=None \n",
      "[CV]  splitter=random, min_samples_leaf=2, max_features=sqrt, max_depth=None, score=0.480, total=   0.0s\n",
      "[CV] splitter=random, min_samples_leaf=2, max_features=sqrt, max_depth=None \n",
      "[CV]  splitter=random, min_samples_leaf=2, max_features=sqrt, max_depth=None, score=0.477, total=   0.0s\n",
      "[CV] splitter=random, min_samples_leaf=2, max_features=log2, max_depth=35 \n",
      "[CV]  splitter=random, min_samples_leaf=2, max_features=log2, max_depth=35, score=0.397, total=   0.0s\n",
      "[CV] splitter=random, min_samples_leaf=2, max_features=log2, max_depth=35 \n",
      "[CV]  splitter=random, min_samples_leaf=2, max_features=log2, max_depth=35, score=0.255, total=   0.0s\n",
      "[CV] splitter=random, min_samples_leaf=2, max_features=log2, max_depth=35 \n",
      "[CV]  splitter=random, min_samples_leaf=2, max_features=log2, max_depth=35, score=0.516, total=   0.0s\n",
      "[CV] splitter=random, min_samples_leaf=2, max_features=log2, max_depth=35 \n",
      "[CV]  splitter=random, min_samples_leaf=2, max_features=log2, max_depth=35, score=0.419, total=   0.0s\n",
      "[CV] splitter=random, min_samples_leaf=2, max_features=log2, max_depth=35 \n",
      "[CV]  splitter=random, min_samples_leaf=2, max_features=log2, max_depth=35, score=0.567, total=   0.0s\n",
      "[CV] splitter=random, min_samples_leaf=4, max_features=auto, max_depth=30 \n",
      "[CV]  splitter=random, min_samples_leaf=4, max_features=auto, max_depth=30, score=0.911, total=   0.0s\n",
      "[CV] splitter=random, min_samples_leaf=4, max_features=auto, max_depth=30 \n",
      "[CV]  splitter=random, min_samples_leaf=4, max_features=auto, max_depth=30, score=0.958, total=   0.0s\n",
      "[CV] splitter=random, min_samples_leaf=4, max_features=auto, max_depth=30 \n",
      "[CV]  splitter=random, min_samples_leaf=4, max_features=auto, max_depth=30, score=0.959, total=   0.0s\n",
      "[CV] splitter=random, min_samples_leaf=4, max_features=auto, max_depth=30 \n",
      "[CV]  splitter=random, min_samples_leaf=4, max_features=auto, max_depth=30, score=0.961, total=   0.0s\n",
      "[CV] splitter=random, min_samples_leaf=4, max_features=auto, max_depth=30 \n",
      "[CV]  splitter=random, min_samples_leaf=4, max_features=auto, max_depth=30, score=0.950, total=   0.0s\n",
      "DecisionTreeRegressor(max_features='auto', min_samples_leaf=2)\n",
      "0.9706584744461705\n",
      "0.9761026724779598\n"
     ]
    },
    {
     "name": "stderr",
     "output_type": "stream",
     "text": [
      "[Parallel(n_jobs=1)]: Done 125 out of 125 | elapsed:    6.8s finished\n"
     ]
    }
   ],
   "source": [
    "grid = {\n",
    "    \"max_depth\":[None,5,10,15,20,25,30,35,40,45,50],\n",
    "    'splitter':['best','random'],\n",
    "    \"max_features\":[\"auto\",\"sqrt\",'log2'],\n",
    "    \"min_samples_leaf\":[2,4,6,8,10],\n",
    "}\n",
    "model_rs = DecisionTreeRegressor()\n",
    "rs = RandomizedSearchCV(estimator=model_rs,param_distributions=grid,cv=5,verbose=25,n_iter=25)\n",
    "rs.fit(X_train,y_train)\n",
    "print(rs.best_estimator_)\n",
    "print(rs.score(X_test,y_test))\n",
    "print(rs.best_score_)\n",
    "pickle.dump(rs,open('./model_DTR_random.pkl','wb'))"
   ]
  },
  {
   "cell_type": "code",
   "execution_count": 142,
   "metadata": {},
   "outputs": [
    {
     "name": "stdout",
     "output_type": "stream",
     "text": [
      "Date Like 20210207 #Year#Month#Day \n",
      " 20210208\n",
      "Country 163 is Sri Lanka Web version comming soon \n",
      " 163\n",
      "[[67482.5 61014.    341. ]]\n",
      "[[67135.95333333 60617.338        338.55133333]]\n",
      "[[67482.5 61014.    341. ]]\n"
     ]
    }
   ],
   "source": [
    "date = input('Date Like 20210207 #Year#Month#Day \\n ')\n",
    "country = input('Country Web version comming soon \\n ')\n",
    "array = np.array([[date,country]])\n",
    "print(rs.predict(array))\n",
    "print(model_RandomForestRegressor.predict(array))\n",
    "print(model_DecisionTreeRegressor.predict(array))"
   ]
  },
  {
   "cell_type": "markdown",
   "metadata": {},
   "source": [
    "# the predictions may change according to different reasons. the predictions may change the 97% accuracy this shows may change the predictions may change"
   ]
  },
  {
   "cell_type": "code",
   "execution_count": null,
   "metadata": {},
   "outputs": [],
   "source": []
  }
 ],
 "metadata": {
  "kernelspec": {
   "display_name": "Python 3",
   "language": "python",
   "name": "python3"
  },
  "language_info": {
   "codemirror_mode": {
    "name": "ipython",
    "version": 3
   },
   "file_extension": ".py",
   "mimetype": "text/x-python",
   "name": "python",
   "nbconvert_exporter": "python",
   "pygments_lexer": "ipython3",
   "version": "3.8.5"
  }
 },
 "nbformat": 4,
 "nbformat_minor": 4
}
